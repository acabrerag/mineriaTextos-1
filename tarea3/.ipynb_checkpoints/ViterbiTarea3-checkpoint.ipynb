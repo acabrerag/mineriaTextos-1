{
 "cells": [
  {
   "cell_type": "code",
   "execution_count": 3,
   "metadata": {
    "collapsed": true
   },
   "outputs": [],
   "source": [
    "import numpy as np\n",
    "\n",
    "\n",
    "class Viterbi(object):\n",
    "    def __init__(self, initial, trans, obsProb):\n",
    "        self.N = initial.shape[0]\n",
    "        self.initial = initial\n",
    "        self.trans = trans\n",
    "        self.obsProb = obsProb\n",
    "        assert self.initial.shape == (self.N, 1)\n",
    "        assert self.trans.shape == (self.N, self.N)\n",
    "        assert self.obsProb.shape[0] == self.N\n",
    "        \n",
    "    def Obs(self, obs):\n",
    "        return self.obsProb[:, obs, None]\n",
    "\n",
    "    def Decode(self, obs):\n",
    "        t = np.zeros((self.N, len(obs)))\n",
    "        b = np.ones((self.N, len(obs)), 'int32') * -1\n",
    "                \n",
    "        # initialization\n",
    "        t[:, 0] = np.squeeze(self.initial * self.Obs(obs[0]))\n",
    "                \n",
    "        for t in xrange(1, len(obs)):\n",
    "            t[:, t] = (trellis[:, t-1, None].dot(self.Obs(obs[t]).T) * self.trans).max(0)\n",
    "            b[:, t] = (np.tile(trellis[:, t-1, None], [1, self.N]) * self.trans).argmax(0)\n",
    "        # termination\n",
    "        tokens = [t[:, -1].argmax()]\n",
    "        for i in xrange(len(obs)-1, 0, -1):\n",
    "            tokens.append(b[tokens[-1], i])\n",
    "            return tokens[::-1]"
   ]
  },
  {
   "cell_type": "code",
   "execution_count": null,
   "metadata": {
    "collapsed": true
   },
   "outputs": [],
   "source": []
  }
 ],
 "metadata": {
  "kernelspec": {
   "display_name": "Python 2",
   "language": "python",
   "name": "python2"
  },
  "language_info": {
   "codemirror_mode": {
    "name": "ipython",
    "version": 2
   },
   "file_extension": ".py",
   "mimetype": "text/x-python",
   "name": "python",
   "nbconvert_exporter": "python",
   "pygments_lexer": "ipython2",
   "version": "2.7.11"
  }
 },
 "nbformat": 4,
 "nbformat_minor": 0
}
