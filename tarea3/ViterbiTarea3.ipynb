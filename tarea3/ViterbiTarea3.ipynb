{
 "cells": [
  {
   "cell_type": "code",
   "execution_count": 50,
   "metadata": {
    "collapsed": true
   },
   "outputs": [],
   "source": [
    "import numpy as np\n",
    "\n",
    "\n",
    "class Viterbi(object):\n",
    "    def __init__(self, pi, a, b):\n",
    "        self.N = pi.shape[0]\n",
    "        self.pi = pi\n",
    "        self.a = a\n",
    "        self.b = b\n",
    "        assert self.pi.shape == (self.N, 1)\n",
    "        assert self.a.shape == (self.N, self.N)\n",
    "        assert self.b.shape[0] == self.N\n",
    "        \n",
    "    def Obs(self, obs):\n",
    "        return self.b[:, obs, None]\n",
    "\n",
    "    def Decode(self, obs):\n",
    "        tr = np.zeros((self.N, len(obs)))\n",
    "        bc = np.ones((self.N, len(obs)), 'int32') * -1\n",
    "                \n",
    "        \n",
    "        tr[:, 0] = np.squeeze(self.pi * self.Obs(obs[0]))\n",
    "                \n",
    "        for t in xrange(1, len(obs)):\n",
    "            tr[:, t] = (tr[:, t-1, None].dot(self.Obs(obs[t]).T) * self.a).max(0)\n",
    "            bc[:, t] = (np.tile(tr[:, t-1, None], [1, self.N]) * self.a).argmax(0)\n",
    "        \n",
    "        tokens = [tr[:, -1].argmax()]\n",
    "        for i in xrange(len(obs)-1, 0, -1):\n",
    "            tokens.append(bc[tokens[-1], i])\n",
    "        return tokens[::-1]"
   ]
  },
  {
   "cell_type": "code",
   "execution_count": 51,
   "metadata": {
    "collapsed": true
   },
   "outputs": [],
   "source": [
    "import pandas\n",
    "from pandas import DataFrame\n",
    "import nltk\n",
    "infile=\"DocumentsCorpus.xlsx\""
   ]
  },
  {
   "cell_type": "code",
   "execution_count": 52,
   "metadata": {
    "collapsed": true
   },
   "outputs": [],
   "source": [
    "Apandas = pandas.read_excel(infile,sheetname=\"A\") \n",
    "rownames = Apandas.index.tolist()\n",
    "A=np.array(Apandas)"
   ]
  },
  {
   "cell_type": "code",
   "execution_count": 53,
   "metadata": {
    "collapsed": true
   },
   "outputs": [],
   "source": [
    "Bpandas = pandas.read_excel(infile,'B')\n",
    "B=np.array(Bpandas)\n",
    "statenames = Bpandas.index.tolist()"
   ]
  },
  {
   "cell_type": "code",
   "execution_count": 54,
   "metadata": {
    "collapsed": true
   },
   "outputs": [],
   "source": [
    "piPandas= pandas.read_excel(infile,'pi')\n",
    "pi=np.array(piPandas)"
   ]
  },
  {
   "cell_type": "code",
   "execution_count": 55,
   "metadata": {
    "collapsed": false
   },
   "outputs": [],
   "source": [
    "v = Viterbi(pi,B,A)\n",
    "states =  v.Decode(np.arange(30))\n",
    "result = np.array(statenames)[states].tolist()"
   ]
  },
  {
   "cell_type": "code",
   "execution_count": 56,
   "metadata": {
    "collapsed": false
   },
   "outputs": [
    {
     "data": {
      "text/plain": [
       "[u'NP',\n",
       " u'Fc',\n",
       " u'DA',\n",
       " u'NC',\n",
       " u'SP',\n",
       " u'DA',\n",
       " u'NC',\n",
       " u'NP',\n",
       " u'Fp',\n",
       " u'NP',\n",
       " u'Fp',\n",
       " u'SP',\n",
       " u'DA',\n",
       " u'NC',\n",
       " u'SP',\n",
       " u'DA',\n",
       " u'NC',\n",
       " u'NP',\n",
       " u'SP',\n",
       " u'NP',\n",
       " u'SP',\n",
       " u'DA',\n",
       " u'NC',\n",
       " u'SP',\n",
       " u'DA',\n",
       " u'NC',\n",
       " u'SP',\n",
       " u'NP',\n",
       " u'SP',\n",
       " u'DA']"
      ]
     },
     "execution_count": 56,
     "metadata": {},
     "output_type": "execute_result"
    }
   ],
   "source": [
    "result"
   ]
  },
  {
   "cell_type": "code",
   "execution_count": null,
   "metadata": {
    "collapsed": true
   },
   "outputs": [],
   "source": []
  }
 ],
 "metadata": {
  "kernelspec": {
   "display_name": "Python 2",
   "language": "python",
   "name": "python2"
  },
  "language_info": {
   "codemirror_mode": {
    "name": "ipython",
    "version": 2
   },
   "file_extension": ".py",
   "mimetype": "text/x-python",
   "name": "python",
   "nbconvert_exporter": "python",
   "pygments_lexer": "ipython2",
   "version": "2.7.11"
  }
 },
 "nbformat": 4,
 "nbformat_minor": 0
}
